{
 "cells": [
  {
   "cell_type": "code",
   "execution_count": null,
   "id": "5d2dd9d9-1a84-4051-9660-e98ca8751016",
   "metadata": {},
   "outputs": [],
   "source": [
    "import re\n",
    "import string\n",
    "import numpy as np\n",
    "import pandas as pd\n",
    "from nltk.corpus import stopwords\n",
    "from nltk.tokenize import word_tokenize\n",
    "from gensim.models import KeyedVectors\n",
    "from sklearn.model_selection import train_test_split\n",
    "from sklearn.preprocessing import LabelEncoder\n",
    "from keras.utils import to_categorical\n",
    "from tensorflow.keras.preprocessing.sequence import pad_sequences\n",
    "import contractions"
   ]
  },
  {
   "cell_type": "code",
   "execution_count": null,
   "id": "8f428ed0-9898-412b-9bcf-80062eac67bb",
   "metadata": {},
   "outputs": [],
   "source": [
    "# Load data\n",
    "df = pd.read_csv(\"PROMISE.csv\", encoding='latin1')\n",
    "columns = ['RequirementText', '_class_']\n",
    "df = df[columns].copy()\n",
    "df.dropna(axis=0, inplace=True)"
   ]
  },
  {
   "cell_type": "code",
   "execution_count": null,
   "id": "67bb20dd-e87b-4ad2-9be1-aa2eadd57808",
   "metadata": {},
   "outputs": [],
   "source": [
    "# Data cleaning\n",
    "df['contraction_count'] = df['RequirementText'].apply(lambda x: len(re.findall(r\"\\b(?:{})\\b\".format(\"|\".join(contractions.contractions_dict.keys())), x)))\n",
    "df['text'] = df['RequirementText'].apply(contractions.fix)\n",
    "df['text'] = df['text'].str.lower()\n",
    "df['text'] = df['text'].apply(lambda x: re.sub('[%s]' % re.escape(string.punctuation), '', x))\n",
    "stop_words = set(stopwords.words('english'))\n",
    "stop_words.add('subject')\n",
    "stop_words.add('http')\n",
    "df['text'] = df['text'].apply(lambda x: \" \".join([word for word in x.split() if word not in stop_words]))\n",
    "df['text'] = df['text'].apply(lambda x: re.sub(' +', ' ', x))\n"
   ]
  },
  {
   "cell_type": "code",
   "execution_count": null,
   "id": "ce204264-a75f-4c74-8b17-304041ce5a47",
   "metadata": {},
   "outputs": [],
   "source": [
    "# Tokenize text\n",
    "df['Tokenized_Text'] = df['text'].apply(word_tokenize)"
   ]
  },
  {
   "cell_type": "code",
   "execution_count": null,
   "id": "680a313f-d3fb-4f54-8245-b40a65fc72d9",
   "metadata": {},
   "outputs": [],
   "source": [
    "# Load GloVe model\n",
    "glove_file = 'glove.42B.300d.txt'\n",
    "model = KeyedVectors.load_word2vec_format(glove_file, binary=False, no_header=True)\n",
    "vectorized_text = df['Tokenized_Text'].apply(lambda x: [model[word] if word in model else [0] * model.vector_size for word in x])\n",
    "df['Vectorized_Text'] = vectorized_text\n"
   ]
  },
  {
   "cell_type": "code",
   "execution_count": null,
   "id": "7cec0c50-46db-4550-8b45-97f2900fe6de",
   "metadata": {},
   "outputs": [],
   "source": [
    "# Train-test split\n",
    "X_train, X_test, y_train, y_test = train_test_split(df['Vectorized_Text'], df['_class_'], test_size=0.15, random_state=0)\n"
   ]
  },
  {
   "cell_type": "code",
   "execution_count": null,
   "id": "f6f99355-82f0-4ce6-97a8-877b7de03c98",
   "metadata": {},
   "outputs": [],
   "source": [
    "# Encode labels\n",
    "label_encoder = LabelEncoder()\n",
    "y_train_encoded = label_encoder.fit_transform(y_train)\n",
    "y_test_encoded = label_encoder.transform(y_test)\n",
    "num_classes = len(np.unique(y_train_encoded))\n",
    "y_train_categorical = to_categorical(y_train_encoded, num_classes=num_classes)\n",
    "y_test_categorical = to_categorical(y_test_encoded, num_classes=num_classes)\n"
   ]
  },
  {
   "cell_type": "code",
   "execution_count": null,
   "id": "f5e0fc7c-cf41-4f40-9c58-9424cd05e4f0",
   "metadata": {},
   "outputs": [],
   "source": [
    "# Pad sequences\n",
    "max_sequence_length = max(len(seq) for seq in X_train)\n",
    "X_train_padded = pad_sequences(X_train, maxlen=max_sequence_length, padding='post', dtype='float32')\n",
    "X_test_padded = pad_sequences(X_test, maxlen=max_sequence_length, padding='post', dtype='float32')\n",
    "\n",
    "print(X_train_padded.shape)"
   ]
  },
  {
   "cell_type": "code",
   "execution_count": null,
   "id": "1042d769-7f52-4991-a66d-25a091bcd70d",
   "metadata": {},
   "outputs": [],
   "source": [
    "from keras.models import Sequential\n",
    "from keras.layers import Dense, Dropout, Flatten\n",
    "\n",
    "# Build DNN model\n",
    "model = Sequential()\n",
    "model.add(Flatten(input_shape=(X_train_padded.shape[1], X_train_padded.shape[2])))\n",
    "model.add(Dense(512, activation='relu'))\n",
    "model.add(Dropout(0.5))\n",
    "model.add(Dense(256, activation='relu'))\n",
    "model.add(Dropout(0.5))\n",
    "model.add(Dense(128, activation='relu'))\n",
    "model.add(Dropout(0.5))\n",
    "model.add(Dense(num_classes, activation='softmax'))\n",
    "\n",
    "# Compile the model\n",
    "model.compile(loss='categorical_crossentropy', optimizer='adam', metrics=['accuracy'])\n"
   ]
  },
  {
   "cell_type": "code",
   "execution_count": null,
   "id": "dd65bf87-2354-42d7-b0c3-5728aab5a219",
   "metadata": {},
   "outputs": [],
   "source": [
    "# Train the model\n",
    "history = model.fit(X_train_padded, y_train_categorical, epochs=15, batch_size=64, validation_data=(X_test_padded, y_test_categorical))\n"
   ]
  },
  {
   "cell_type": "code",
   "execution_count": null,
   "id": "82e002d5-d921-444a-9c52-c53ae3f912df",
   "metadata": {},
   "outputs": [],
   "source": [
    "import matplotlib.pyplot as plt\n",
    "import seaborn as sns\n",
    "\n",
    "# Evaluate the model\n",
    "loss, accuracy = model.evaluate(X_test_padded, y_test_categorical)\n",
    "print(\"Test Accuracy:\", accuracy)\n",
    "\n",
    "# Predictions\n",
    "y_pred = np.argmax(model.predict(X_test_padded), axis=-1)\n",
    "\n",
    "# Metrics\n",
    "from sklearn.metrics import precision_score, recall_score, f1_score, precision_recall_fscore_support, confusion_matrix, classification_report\n",
    "train_precision, train_recall, train_f1, _ = precision_recall_fscore_support(y_train_encoded, np.argmax(model.predict(X_train_padded), axis=-1), average='macro')\n",
    "test_precision, test_recall, test_f1, _ = precision_recall_fscore_support(y_test_encoded, y_pred, average='macro')\n",
    "\n",
    "print(\"Train Precision:\", train_precision)\n",
    "print(\"Train Recall:\", train_recall)\n",
    "print(\"Train F1 Score:\", train_f1)\n",
    "print(\"Test Precision:\", test_precision)\n",
    "print(\"Test Recall:\", test_recall)\n",
    "print(\"Test F1 Score:\", test_f1)\n",
    "\n",
    "# Plot Accuracy\n",
    "plt.figure(figsize=(12, 6))\n",
    "plt.plot(history.history['accuracy'], label='Train Accuracy')\n",
    "plt.plot(history.history['val_accuracy'], label='Validation Accuracy')\n",
    "plt.title('Model Accuracy')\n",
    "plt.xlabel('Epoch')\n",
    "plt.ylabel('Accuracy')\n",
    "plt.legend(loc='lower right')\n",
    "plt.savefig('model_accuracy_dnn.png')\n",
    "plt.show()\n",
    "\n",
    "# Plot F1 Score, Recall, Precision for Train and Test sets\n",
    "metrics = {'Train': (train_precision, train_recall, train_f1), 'Test': (test_precision, test_recall, test_f1)}\n",
    "for metric in ['Precision', 'Recall', 'F1 Score']:\n",
    "    plt.figure(figsize=(12, 6))\n",
    "    plt.bar(metrics.keys(), [metrics['Train'][['Precision', 'Recall', 'F1 Score'].index(metric)],\n",
    "                             metrics['Test'][['Precision', 'Recall', 'F1 Score'].index(metric)]], color=['blue', 'orange'])\n",
    "    plt.title(f'{metric} Comparison')\n",
    "    plt.xlabel('Dataset')\n",
    "    plt.ylabel(metric)\n",
    "    plt.savefig(f'{metric.lower()}_comparison_dnn.png')\n",
    "    plt.show()\n",
    "\n",
    "# Confusion Matrix\n",
    "conf_matrix = confusion_matrix(y_test_encoded, y_pred)\n",
    "plt.figure(figsize=(10, 8))\n",
    "sns.heatmap(conf_matrix, annot=True, fmt='d', cmap='Blues', xticklabels=label_encoder.classes_, yticklabels=label_encoder.classes_)\n",
    "plt.title('Confusion Matrix')\n",
    "plt.xlabel('Predicted Label')\n",
    "plt.ylabel('True Label')\n",
    "plt.savefig('confusion_matrix_dnn.png')\n",
    "plt.show()\n",
    "\n",
    "# Classification Report\n",
    "print(\"Classification Report for each class:\")\n",
    "print(classification_report(y_test_encoded, y_pred, target_names=label_encoder.classes_))\n"
   ]
  },
  {
   "cell_type": "code",
   "execution_count": null,
   "id": "a99cf530-868b-4113-9575-b29f71bdd9b2",
   "metadata": {},
   "outputs": [],
   "source": []
  }
 ],
 "metadata": {
  "kernelspec": {
   "display_name": "Python 3 (ipykernel)",
   "language": "python",
   "name": "python3"
  },
  "language_info": {
   "codemirror_mode": {
    "name": "ipython",
    "version": 3
   },
   "file_extension": ".py",
   "mimetype": "text/x-python",
   "name": "python",
   "nbconvert_exporter": "python",
   "pygments_lexer": "ipython3",
   "version": "3.11.7"
  }
 },
 "nbformat": 4,
 "nbformat_minor": 5
}
